{
 "cells": [
  {
   "cell_type": "code",
   "execution_count": 89,
   "id": "763f31ea",
   "metadata": {},
   "outputs": [],
   "source": [
    "import numpy as np\n",
    "import statistics as stat\n",
    "import random\n",
    "import matplotlib.pyplot as plt"
   ]
  },
  {
   "cell_type": "code",
   "execution_count": 82,
   "id": "f88fd351",
   "metadata": {},
   "outputs": [],
   "source": [
    "def last_site_prob(N):\n",
    "    #number of moves N\n",
    "    count=0\n",
    "    start=51 #initial position of the child\n",
    "    \n",
    "    for i in range(N):\n",
    "        #generarting random flip in coin to move left and right directions\n",
    "        dx=random.randint(0,1)\n",
    "        \n",
    "        #checking whether the child is going left or right\n",
    "        #coin head is consider as 1 and move right\n",
    "        if (dx==1):\n",
    "            x=1\n",
    "\n",
    "        #if no, then the child moves to left\n",
    "        else:\n",
    "            x=-1\n",
    "        start=start+x    \n",
    "        #chechikg whether the child is in the last site\n",
    "        if(start==101 or start==1):\n",
    "            count+=1\n",
    "    P=count/i\n",
    "  \n",
    "    return P"
   ]
  },
  {
   "cell_type": "code",
   "execution_count": 91,
   "id": "f47e5ad3",
   "metadata": {},
   "outputs": [
    {
     "name": "stdout",
     "output_type": "stream",
     "text": [
      "Probability 10 average=0.0\n",
      "10 variance=0.0\n",
      " \n",
      "Probability 60 average=0.0\n",
      "60 variance=0.0\n",
      " \n",
      "Probability 100 average=0.0\n",
      "100 variance=0.0\n",
      " \n",
      "Probability 200 average=2.1340778335846104e-05\n",
      "200 variance=6.242163390091641e-07\n",
      " \n",
      "Probability 500 average=0.00017927092784766462\n",
      "500 variance=4.864084358265767e-06\n",
      " \n",
      "Probability 800 average=0.0005320771580854443\n",
      "800 variance=1.3041846230579731e-05\n",
      " \n",
      "Probability 1000 average=0.0008400435485513657\n",
      "1000 variance=1.9271155391761686e-05\n",
      " \n"
     ]
    }
   ],
   "source": [
    "random_num=[10,60, 100, 200, 500,800,1000]\n",
    "#List to store the probabilty for a 1000 times\n",
    "P_list=[]\n",
    "#List to store varience for each N\n",
    "var_list=[]\n",
    "length = len(random_num)\n",
    "#1000 number of trials for find last site for list in random_num times\n",
    "for i in random_num: \n",
    "    for j in range(1000):\n",
    "        P=last_site_prob(i)\n",
    "        P_list.append(P)\n",
    "        #Calculating mean and variance of the probabilities for a given N\n",
    "    Pavg=stat.mean(P_list)\n",
    "    variance=stat.variance(P_list)\n",
    "\n",
    "            #storing the mean and variance of the probabilities for a given N\n",
    "    P_list.append(Pavg)\n",
    "    var_list.append(variance)\n",
    "    print(f'Probability {i} average={Pavg}')\n",
    "    print(f'{i} variance={variance}')\n",
    "    print(' ')"
   ]
  },
  {
   "cell_type": "code",
   "execution_count": 92,
   "id": "de4af018",
   "metadata": {},
   "outputs": [
    {
     "data": {
      "image/png": "[encoded data removed]",
      "text/plain": [
       "<Figure size 432x288 with 1 Axes>"
      ]
     },
     "metadata": {
      "needs_background": "light"
     },
     "output_type": "display_data"
    }
   ],
   "source": [
    "plt.plot(random_num,var_list,marker='o')\n",
    "plt.xlabel('Number of iterations')\n",
    "    #naming the y axis\n",
    "plt.ylabel('Variance')\n",
    "\n",
    "    #giving a title to my graph\n",
    "plt.title('Variance Verse Number of iterations')\n",
    "\n",
    "    #function to show the plot\n",
    "plt.show()"
   ]
  },
  {
   "cell_type": "code",
   "execution_count": null,
   "id": "f041e525",
   "metadata": {},
   "outputs": [],
   "source": []
  },
  {
   "cell_type": "code",
   "execution_count": null,
   "id": "0eaf9291",
   "metadata": {},
   "outputs": [],
   "source": []
  },
  {
   "cell_type": "code",
   "execution_count": null,
   "id": "afe7d81c",
   "metadata": {},
   "outputs": [],
   "source": []
  }
 ],
 "metadata": {
  "kernelspec": {
   "display_name": "Python 3",
   "language": "python",
   "name": "python3"
  },
  "language_info": {
   "codemirror_mode": {
    "name": "ipython",
    "version": 3
   },
   "file_extension": ".py",
   "mimetype": "text/x-python",
   "name": "python",
   "nbconvert_exporter": "python",
   "pygments_lexer": "ipython3",
   "version": "3.8.8"
  }
 },
 "nbformat": 4,
 "nbformat_minor": 5
}
